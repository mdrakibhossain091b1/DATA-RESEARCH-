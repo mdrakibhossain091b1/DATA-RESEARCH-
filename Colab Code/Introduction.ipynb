{
  "nbformat": 4,
  "nbformat_minor": 0,
  "metadata": {
    "colab": {
      "provenance": [],
      "toc_visible": true,
      "authorship_tag": "ABX9TyP3vaiBSrmktk2Mh4OJJI/E",
      "include_colab_link": true
    },
    "kernelspec": {
      "name": "python3",
      "display_name": "Python 3"
    },
    "language_info": {
      "name": "python"
    }
  },
  "cells": [
    {
      "cell_type": "markdown",
      "metadata": {
        "id": "view-in-github",
        "colab_type": "text"
      },
      "source": [
        "<a href=\"https://colab.research.google.com/github/mdrakibhossain091b1/Data-Science/blob/main/Colab%20Code/Introduction.ipynb\" target=\"_parent\"><img src=\"https://colab.research.google.com/assets/colab-badge.svg\" alt=\"Open In Colab\"/></a>"
      ]
    },
    {
      "cell_type": "code",
      "execution_count": null,
      "metadata": {
        "colab": {
          "base_uri": "https://localhost:8080/"
        },
        "id": "VxejYK8IpZK7",
        "outputId": "9f86ffcf-9397-444b-fcdd-60287d86da54"
      },
      "outputs": [
        {
          "output_type": "stream",
          "name": "stdout",
          "text": [
            "beginner, exploring new skills.\n"
          ]
        }
      ],
      "source": [
        "print ('beginner, exploring new skills.')"
      ]
    },
    {
      "cell_type": "code",
      "source": [
        "12+8"
      ],
      "metadata": {
        "colab": {
          "base_uri": "https://localhost:8080/"
        },
        "id": "k0HNBddUrEOV",
        "outputId": "000d2dd1-5b9d-4a74-f1a0-904b3298e301"
      },
      "execution_count": null,
      "outputs": [
        {
          "output_type": "execute_result",
          "data": {
            "text/plain": [
              "20"
            ]
          },
          "metadata": {},
          "execution_count": 5
        }
      ]
    },
    {
      "cell_type": "markdown",
      "source": [
        "# *Introduction*"
      ],
      "metadata": {
        "id": "XeELkfdqrequ"
      }
    },
    {
      "cell_type": "markdown",
      "source": [
        "## Introduction 2"
      ],
      "metadata": {
        "id": "vYJ-VYH_s4z9"
      }
    },
    {
      "cell_type": "markdown",
      "source": [
        "# Introduction 3"
      ],
      "metadata": {
        "id": "dd2qNBUntRHU"
      }
    },
    {
      "cell_type": "code",
      "source": [
        "45+65"
      ],
      "metadata": {
        "colab": {
          "base_uri": "https://localhost:8080/"
        },
        "id": "dIZU-aR_tjM3",
        "outputId": "0c01f466-aa1c-4e8a-afe9-36044e00ca37"
      },
      "execution_count": null,
      "outputs": [
        {
          "output_type": "execute_result",
          "data": {
            "text/plain": [
              "110"
            ]
          },
          "metadata": {},
          "execution_count": 6
        }
      ]
    },
    {
      "cell_type": "code",
      "source": [
        "52-561-23"
      ],
      "metadata": {
        "id": "S19Ng9ogtvrg",
        "outputId": "1d27fbef-5171-4b6f-abb3-b72eff125bdc",
        "colab": {
          "base_uri": "https://localhost:8080/"
        }
      },
      "execution_count": null,
      "outputs": [
        {
          "output_type": "execute_result",
          "data": {
            "text/plain": [
              "-532"
            ]
          },
          "metadata": {},
          "execution_count": 8
        }
      ]
    },
    {
      "cell_type": "code",
      "source": [],
      "metadata": {
        "id": "uMiSkjxTtyZ_"
      },
      "execution_count": null,
      "outputs": []
    }
  ]
}