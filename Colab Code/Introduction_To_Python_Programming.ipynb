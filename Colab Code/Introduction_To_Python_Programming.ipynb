{
  "nbformat": 4,
  "nbformat_minor": 0,
  "metadata": {
    "colab": {
      "provenance": [],
      "authorship_tag": "ABX9TyPEDXXa191WuoB5IVfYIBtj",
      "include_colab_link": true
    },
    "kernelspec": {
      "name": "python3",
      "display_name": "Python 3"
    },
    "language_info": {
      "name": "python"
    }
  },
  "cells": [
    {
      "cell_type": "markdown",
      "metadata": {
        "id": "view-in-github",
        "colab_type": "text"
      },
      "source": [
        "<a href=\"https://colab.research.google.com/github/mdrakibhossain091b1/DATA-RESEARCH-/blob/main/Colab%20Code/Introduction_To_Python_Programming.ipynb\" target=\"_parent\"><img src=\"https://colab.research.google.com/assets/colab-badge.svg\" alt=\"Open In Colab\"/></a>"
      ]
    },
    {
      "cell_type": "markdown",
      "source": [
        "# Variable"
      ],
      "metadata": {
        "id": "DAoQWJMDZh_X"
      }
    },
    {
      "cell_type": "code",
      "source": [
        "# Homework 2.1\n",
        "# 2.1. Create variables for your name, age, and favorite color, then print them with descriptive labels.\n",
        "# Creating variables\n",
        "name= \"Md Rakib Hossain\"\n",
        "age= 24\n",
        "favorite_color= \"Black\"\n",
        "is_active= True\n",
        "height_in_cm= 152.4\n",
        "result= None\n",
        "print(\"Name:\", name)\n",
        "print(\"Age:\", age)\n",
        "print(\"Favorite Color:\", favorite_color)\n",
        "\n",
        "# Homework 2.2\n",
        "# 2.2. Try it yourself: Create one variable of each type and use the type() function to verify its type.\n",
        "print(type(name))\n",
        "print(type(age))\n",
        "print(type(is_active))\n",
        "print(type(height_in_cm))\n",
        "print(type(result))"
      ],
      "metadata": {
        "colab": {
          "base_uri": "https://localhost:8080/"
        },
        "id": "MkU6iSRoZrVA",
        "outputId": "5cfa6868-03a4-411a-e93a-a66f0085d7a6"
      },
      "execution_count": null,
      "outputs": [
        {
          "output_type": "stream",
          "name": "stdout",
          "text": [
            "Name: Md Rakib Hossain\n",
            "Age: 24\n",
            "Favorite Color: Black\n",
            "<class 'str'>\n",
            "<class 'int'>\n",
            "<class 'bool'>\n",
            "<class 'float'>\n",
            "<class 'NoneType'>\n"
          ]
        }
      ]
    },
    {
      "cell_type": "code",
      "source": [
        "# Homework 2.3\n",
        "# Try it yourself: Calculate the area and perimeter of a rectangle with length 7 and width 5.\n",
        "# Creating variables\n",
        "length= 7\n",
        "width= 5\n",
        "area= length*width\n",
        "perimeter= 2*(length + width)\n",
        "print(\"Area:\", area)\n",
        "print(\"Perimeter:\", perimeter)\n"
      ],
      "metadata": {
        "colab": {
          "base_uri": "https://localhost:8080/"
        },
        "id": "XB3tg8KOeEpp",
        "outputId": "4108de85-d653-4f1a-b563-78e60678dca5"
      },
      "execution_count": null,
      "outputs": [
        {
          "output_type": "stream",
          "name": "stdout",
          "text": [
            "Area: 35\n",
            "Perimeter: 24\n"
          ]
        }
      ]
    },
    {
      "cell_type": "markdown",
      "source": [
        "# Data Structure"
      ],
      "metadata": {
        "id": "6zWIY8lAboTu"
      }
    },
    {
      "cell_type": "code",
      "source": [
        "# Homework 2.4\n",
        "# 2.4. Try it yourself: Create a list of 5 Bangladeshi foods, then access the first and last elements.\n",
        "# Creating List\n",
        "foods= [\"Kachchi\", \"Hilsa Fish Curry\", \"Bhorta\", \"Biriyani\", \"Yougurt\"]\n",
        "print(foods[0])\n",
        "print(foods[4])"
      ],
      "metadata": {
        "colab": {
          "base_uri": "https://localhost:8080/"
        },
        "id": "Uhwt-bENbyD1",
        "outputId": "7c7e24b4-5adf-4376-925f-d967aa7d2beb"
      },
      "execution_count": null,
      "outputs": [
        {
          "output_type": "stream",
          "name": "stdout",
          "text": [
            "Kachchi\n",
            "Yougurt\n"
          ]
        }
      ]
    },
    {
      "cell_type": "code",
      "source": [
        "# Homework 2.5\n",
        "# 2.5 Try it yourself: Create a list of 5 numbers, add a new number, remove one, and then sort the list.\n",
        "# Creating List\n",
        "numbers= [\"98\", \"85\", \"81\", \"68\", \"95\"]\n",
        "numbers.append(\"88\")\n",
        "numbers.remove(\"85\")\n",
        "numbers.sort()\n",
        "print(numbers)"
      ],
      "metadata": {
        "colab": {
          "base_uri": "https://localhost:8080/"
        },
        "id": "NuDwSOFhdkAe",
        "outputId": "66caa092-64e1-4bad-a448-15256e4bd40e"
      },
      "execution_count": null,
      "outputs": [
        {
          "output_type": "stream",
          "name": "stdout",
          "text": [
            "['68', '81', '88', '95', '98']\n"
          ]
        }
      ]
    },
    {
      "cell_type": "code",
      "source": [
        "# Homework 2.6\n",
        "# 2.6 Try it yourself: Create a dictionary about yourself with at least 4 key-value pairs.\n",
        "# Creating dictionary\n",
        "myself={\"Name\": \"MD Rakib Hossain\", \"Age\": 24, \"Favorite Color\": \"Black\", \"Active\": True}\n",
        "print(myself[\"Name\"])\n",
        "print(myself[\"Age\"])\n",
        "print(myself[\"Favorite Color\"])\n",
        "print(myself[\"Active\"])\n"
      ],
      "metadata": {
        "colab": {
          "base_uri": "https://localhost:8080/"
        },
        "id": "x5RKXWetfMyd",
        "outputId": "2931b037-e5cd-4aae-d8bb-97364ff17bee"
      },
      "execution_count": null,
      "outputs": [
        {
          "output_type": "stream",
          "name": "stdout",
          "text": [
            "MD Rakib Hossain\n",
            "24\n",
            "Black\n",
            "True\n"
          ]
        }
      ]
    },
    {
      "cell_type": "code",
      "source": [
        "# 2.7 Try it yourself: Create a tuple with the latitude and longitude of a famous place in Bangladesh.\n",
        "# Homework 2.7\n",
        "# Creating Tuple\n",
        "latitude_dhaka=(23.8041, \"North\")\n",
        "longitude_dhaka=(90.4152, \"East\")\n",
        "print(latitude_dhaka)\n",
        "print(longitude_dhaka)"
      ],
      "metadata": {
        "colab": {
          "base_uri": "https://localhost:8080/"
        },
        "id": "zyQt20hYY7mC",
        "outputId": "62dcc586-660c-4ebe-cae0-10ec1d611788"
      },
      "execution_count": null,
      "outputs": [
        {
          "output_type": "stream",
          "name": "stdout",
          "text": [
            "(23.8041, 'North')\n",
            "(90.4152, 'East')\n"
          ]
        }
      ]
    },
    {
      "cell_type": "code",
      "source": [
        "# Homework 2.8\n",
        "# 2.8 Try it yourself: Create two sets of colors and find their union and intersection.\n",
        "# Creating Sets\n",
        "color_set_one={\"Red\", \"Blue\", \"Yellow\", \"Green\"}\n",
        "color_set_two={\"Purple\", \"Yellow\", \"Gray\", \"Red\"}\n",
        "union= color_set_one | color_set_two\n",
        "intersection= color_set_one & color_set_two\n",
        "print(union)\n",
        "print(intersection)"
      ],
      "metadata": {
        "colab": {
          "base_uri": "https://localhost:8080/"
        },
        "id": "iQqEOfR6b14C",
        "outputId": "747117d8-f5d6-4319-9dc7-67d5c20e29d2"
      },
      "execution_count": null,
      "outputs": [
        {
          "output_type": "stream",
          "name": "stdout",
          "text": [
            "{'Gray', 'Purple', 'Blue', 'Red', 'Yellow', 'Green'}\n",
            "{'Yellow', 'Red'}\n"
          ]
        }
      ]
    },
    {
      "cell_type": "markdown",
      "source": [
        "# Conditional"
      ],
      "metadata": {
        "id": "AOLUuPqACsT3"
      }
    },
    {
      "cell_type": "code",
      "source": [
        "# Homework 2.9\n",
        "# 2.9 Try it yourself: Write a program that checks if a number is positive, negative, or zero.\n",
        "# Creating variables\n",
        "age= 0\n",
        "if age > 1:\n",
        "    grade= \"Positive\"\n",
        "elif age < 0:\n",
        "    grade= \"Negetive\"\n",
        "else:\n",
        "    grade= \"Zero\"\n",
        "print(f\"you are {grade}\")\n"
      ],
      "metadata": {
        "colab": {
          "base_uri": "https://localhost:8080/"
        },
        "id": "YuvqiIobCwx_",
        "outputId": "bfc0e2a9-b951-44f9-a66f-dcb78c368b18"
      },
      "execution_count": 36,
      "outputs": [
        {
          "output_type": "stream",
          "name": "stdout",
          "text": [
            "you are Zero\n"
          ]
        }
      ]
    },
    {
      "cell_type": "code",
      "source": [
        "# Homework 2.10\n",
        "# 2.10 Try it yourself: Write a program that checks eligibility for a discount (student AND under 25, OR senior over 60).\n",
        "# Creating variables\n",
        "age= 65\n",
        "student= False\n",
        "if age <= 25 and student or age >= 60:\n",
        "  print(\"You are eligible\")\n",
        "else:\n",
        "  print(\"You are not eligible\")\n"
      ],
      "metadata": {
        "colab": {
          "base_uri": "https://localhost:8080/"
        },
        "id": "C_NgmCXXHwR4",
        "outputId": "88ec6fc1-288d-4878-a2b2-93f098bff24b"
      },
      "execution_count": 77,
      "outputs": [
        {
          "output_type": "stream",
          "name": "stdout",
          "text": [
            "You are eligible\n"
          ]
        }
      ]
    },
    {
      "cell_type": "markdown",
      "source": [
        "# Loop"
      ],
      "metadata": {
        "id": "2uoWBpZaUTF3"
      }
    },
    {
      "cell_type": "code",
      "source": [
        "# Homework 2.11\n",
        "#2.11 Try it yourself: Write a program that prints the first 10 even numbers using a for or while loop.\n",
        "for i in range(2,22,2):\n",
        "    print(i)\n"
      ],
      "metadata": {
        "colab": {
          "base_uri": "https://localhost:8080/"
        },
        "id": "lcVqAbAFUXn9",
        "outputId": "a2f004dd-8146-4d86-9e5e-2d7c6add96e8"
      },
      "execution_count": 102,
      "outputs": [
        {
          "output_type": "stream",
          "name": "stdout",
          "text": [
            "2\n",
            "4\n",
            "6\n",
            "8\n",
            "10\n",
            "12\n",
            "14\n",
            "16\n",
            "18\n",
            "20\n"
          ]
        }
      ]
    },
    {
      "cell_type": "code",
      "source": [
        "# Homework 2.12\n",
        "# 2.12 Try it yourself: Write a program that prints a simple number pyramid pattern using nested loops.\n",
        "for i in range(10):\n",
        "  print(\"*\"* i)"
      ],
      "metadata": {
        "colab": {
          "base_uri": "https://localhost:8080/"
        },
        "id": "BXeHIbprXk1W",
        "outputId": "572abfec-a5ee-494b-b120-175fcb1c6391"
      },
      "execution_count": 104,
      "outputs": [
        {
          "output_type": "stream",
          "name": "stdout",
          "text": [
            "\n",
            "*\n",
            "**\n",
            "***\n",
            "****\n",
            "*****\n",
            "******\n",
            "*******\n",
            "********\n",
            "*********\n"
          ]
        }
      ]
    }
  ]
}