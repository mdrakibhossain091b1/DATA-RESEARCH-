{
  "nbformat": 4,
  "nbformat_minor": 0,
  "metadata": {
    "colab": {
      "provenance": [],
      "authorship_tag": "ABX9TyPOdOyc+NKgUFdlR4zLJDc9",
      "include_colab_link": true
    },
    "kernelspec": {
      "name": "python3",
      "display_name": "Python 3"
    },
    "language_info": {
      "name": "python"
    }
  },
  "cells": [
    {
      "cell_type": "markdown",
      "metadata": {
        "id": "view-in-github",
        "colab_type": "text"
      },
      "source": [
        "<a href=\"https://colab.research.google.com/github/mdrakibhossain091b1/DATA-RESEARCH-/blob/main/Colab%20Code/NumPy_and_Pandas.ipynb\" target=\"_parent\"><img src=\"https://colab.research.google.com/assets/colab-badge.svg\" alt=\"Open In Colab\"/></a>"
      ]
    },
    {
      "cell_type": "code",
      "execution_count": 2,
      "metadata": {
        "colab": {
          "base_uri": "https://localhost:8080/"
        },
        "id": "gFycP8OeIR_c",
        "outputId": "a2213275-ec0e-4c44-a8e4-a9cea3279fb4"
      },
      "outputs": [
        {
          "output_type": "stream",
          "name": "stdout",
          "text": [
            "Requirement already satisfied: numpy in /usr/local/lib/python3.12/dist-packages (2.0.2)\n",
            "Requirement already satisfied: pandas in /usr/local/lib/python3.12/dist-packages (2.2.2)\n",
            "Requirement already satisfied: python-dateutil>=2.8.2 in /usr/local/lib/python3.12/dist-packages (from pandas) (2.9.0.post0)\n",
            "Requirement already satisfied: pytz>=2020.1 in /usr/local/lib/python3.12/dist-packages (from pandas) (2025.2)\n",
            "Requirement already satisfied: tzdata>=2022.7 in /usr/local/lib/python3.12/dist-packages (from pandas) (2025.2)\n",
            "Requirement already satisfied: six>=1.5 in /usr/local/lib/python3.12/dist-packages (from python-dateutil>=2.8.2->pandas) (1.17.0)\n",
            "Numpy Version: 2.0.2\n",
            "Pandas Version: 2.2.2\n"
          ]
        }
      ],
      "source": [
        "#Task 1.1: Data Loading and Exploration\n",
        "!pip install numpy pandas\n",
        "import numpy as np\n",
        "import pandas as pd\n",
        "print(\"Numpy Version:\", np.__version__)\n",
        "print(\"Pandas Version:\", pd.__version__)\n"
      ]
    },
    {
      "cell_type": "code",
      "source": [
        "# Load the dataset\n",
        "from google.colab import files\n",
        "uploaded = files.upload()\n",
        "\n",
        "# Load the uploaded file\n",
        "import io\n",
        "df = pd.read_csv(io.BytesIO(uploaded['studentsperformance.csv']))"
      ],
      "metadata": {
        "colab": {
          "base_uri": "https://localhost:8080/",
          "height": 73
        },
        "id": "P9aoXJOpxGEZ",
        "outputId": "04f9b127-dd6b-4b6f-c4a4-9a9aa8031912"
      },
      "execution_count": 3,
      "outputs": [
        {
          "output_type": "display_data",
          "data": {
            "text/plain": [
              "<IPython.core.display.HTML object>"
            ],
            "text/html": [
              "\n",
              "     <input type=\"file\" id=\"files-a738e6c8-6aea-4577-9997-ce3dbccc2b23\" name=\"files[]\" multiple disabled\n",
              "        style=\"border:none\" />\n",
              "     <output id=\"result-a738e6c8-6aea-4577-9997-ce3dbccc2b23\">\n",
              "      Upload widget is only available when the cell has been executed in the\n",
              "      current browser session. Please rerun this cell to enable.\n",
              "      </output>\n",
              "      <script>// Copyright 2017 Google LLC\n",
              "//\n",
              "// Licensed under the Apache License, Version 2.0 (the \"License\");\n",
              "// you may not use this file except in compliance with the License.\n",
              "// You may obtain a copy of the License at\n",
              "//\n",
              "//      http://www.apache.org/licenses/LICENSE-2.0\n",
              "//\n",
              "// Unless required by applicable law or agreed to in writing, software\n",
              "// distributed under the License is distributed on an \"AS IS\" BASIS,\n",
              "// WITHOUT WARRANTIES OR CONDITIONS OF ANY KIND, either express or implied.\n",
              "// See the License for the specific language governing permissions and\n",
              "// limitations under the License.\n",
              "\n",
              "/**\n",
              " * @fileoverview Helpers for google.colab Python module.\n",
              " */\n",
              "(function(scope) {\n",
              "function span(text, styleAttributes = {}) {\n",
              "  const element = document.createElement('span');\n",
              "  element.textContent = text;\n",
              "  for (const key of Object.keys(styleAttributes)) {\n",
              "    element.style[key] = styleAttributes[key];\n",
              "  }\n",
              "  return element;\n",
              "}\n",
              "\n",
              "// Max number of bytes which will be uploaded at a time.\n",
              "const MAX_PAYLOAD_SIZE = 100 * 1024;\n",
              "\n",
              "function _uploadFiles(inputId, outputId) {\n",
              "  const steps = uploadFilesStep(inputId, outputId);\n",
              "  const outputElement = document.getElementById(outputId);\n",
              "  // Cache steps on the outputElement to make it available for the next call\n",
              "  // to uploadFilesContinue from Python.\n",
              "  outputElement.steps = steps;\n",
              "\n",
              "  return _uploadFilesContinue(outputId);\n",
              "}\n",
              "\n",
              "// This is roughly an async generator (not supported in the browser yet),\n",
              "// where there are multiple asynchronous steps and the Python side is going\n",
              "// to poll for completion of each step.\n",
              "// This uses a Promise to block the python side on completion of each step,\n",
              "// then passes the result of the previous step as the input to the next step.\n",
              "function _uploadFilesContinue(outputId) {\n",
              "  const outputElement = document.getElementById(outputId);\n",
              "  const steps = outputElement.steps;\n",
              "\n",
              "  const next = steps.next(outputElement.lastPromiseValue);\n",
              "  return Promise.resolve(next.value.promise).then((value) => {\n",
              "    // Cache the last promise value to make it available to the next\n",
              "    // step of the generator.\n",
              "    outputElement.lastPromiseValue = value;\n",
              "    return next.value.response;\n",
              "  });\n",
              "}\n",
              "\n",
              "/**\n",
              " * Generator function which is called between each async step of the upload\n",
              " * process.\n",
              " * @param {string} inputId Element ID of the input file picker element.\n",
              " * @param {string} outputId Element ID of the output display.\n",
              " * @return {!Iterable<!Object>} Iterable of next steps.\n",
              " */\n",
              "function* uploadFilesStep(inputId, outputId) {\n",
              "  const inputElement = document.getElementById(inputId);\n",
              "  inputElement.disabled = false;\n",
              "\n",
              "  const outputElement = document.getElementById(outputId);\n",
              "  outputElement.innerHTML = '';\n",
              "\n",
              "  const pickedPromise = new Promise((resolve) => {\n",
              "    inputElement.addEventListener('change', (e) => {\n",
              "      resolve(e.target.files);\n",
              "    });\n",
              "  });\n",
              "\n",
              "  const cancel = document.createElement('button');\n",
              "  inputElement.parentElement.appendChild(cancel);\n",
              "  cancel.textContent = 'Cancel upload';\n",
              "  const cancelPromise = new Promise((resolve) => {\n",
              "    cancel.onclick = () => {\n",
              "      resolve(null);\n",
              "    };\n",
              "  });\n",
              "\n",
              "  // Wait for the user to pick the files.\n",
              "  const files = yield {\n",
              "    promise: Promise.race([pickedPromise, cancelPromise]),\n",
              "    response: {\n",
              "      action: 'starting',\n",
              "    }\n",
              "  };\n",
              "\n",
              "  cancel.remove();\n",
              "\n",
              "  // Disable the input element since further picks are not allowed.\n",
              "  inputElement.disabled = true;\n",
              "\n",
              "  if (!files) {\n",
              "    return {\n",
              "      response: {\n",
              "        action: 'complete',\n",
              "      }\n",
              "    };\n",
              "  }\n",
              "\n",
              "  for (const file of files) {\n",
              "    const li = document.createElement('li');\n",
              "    li.append(span(file.name, {fontWeight: 'bold'}));\n",
              "    li.append(span(\n",
              "        `(${file.type || 'n/a'}) - ${file.size} bytes, ` +\n",
              "        `last modified: ${\n",
              "            file.lastModifiedDate ? file.lastModifiedDate.toLocaleDateString() :\n",
              "                                    'n/a'} - `));\n",
              "    const percent = span('0% done');\n",
              "    li.appendChild(percent);\n",
              "\n",
              "    outputElement.appendChild(li);\n",
              "\n",
              "    const fileDataPromise = new Promise((resolve) => {\n",
              "      const reader = new FileReader();\n",
              "      reader.onload = (e) => {\n",
              "        resolve(e.target.result);\n",
              "      };\n",
              "      reader.readAsArrayBuffer(file);\n",
              "    });\n",
              "    // Wait for the data to be ready.\n",
              "    let fileData = yield {\n",
              "      promise: fileDataPromise,\n",
              "      response: {\n",
              "        action: 'continue',\n",
              "      }\n",
              "    };\n",
              "\n",
              "    // Use a chunked sending to avoid message size limits. See b/62115660.\n",
              "    let position = 0;\n",
              "    do {\n",
              "      const length = Math.min(fileData.byteLength - position, MAX_PAYLOAD_SIZE);\n",
              "      const chunk = new Uint8Array(fileData, position, length);\n",
              "      position += length;\n",
              "\n",
              "      const base64 = btoa(String.fromCharCode.apply(null, chunk));\n",
              "      yield {\n",
              "        response: {\n",
              "          action: 'append',\n",
              "          file: file.name,\n",
              "          data: base64,\n",
              "        },\n",
              "      };\n",
              "\n",
              "      let percentDone = fileData.byteLength === 0 ?\n",
              "          100 :\n",
              "          Math.round((position / fileData.byteLength) * 100);\n",
              "      percent.textContent = `${percentDone}% done`;\n",
              "\n",
              "    } while (position < fileData.byteLength);\n",
              "  }\n",
              "\n",
              "  // All done.\n",
              "  yield {\n",
              "    response: {\n",
              "      action: 'complete',\n",
              "    }\n",
              "  };\n",
              "}\n",
              "\n",
              "scope.google = scope.google || {};\n",
              "scope.google.colab = scope.google.colab || {};\n",
              "scope.google.colab._files = {\n",
              "  _uploadFiles,\n",
              "  _uploadFilesContinue,\n",
              "};\n",
              "})(self);\n",
              "</script> "
            ]
          },
          "metadata": {}
        },
        {
          "output_type": "stream",
          "name": "stdout",
          "text": [
            "Saving studentsperformance.csv to studentsperformance.csv\n"
          ]
        }
      ]
    },
    {
      "cell_type": "code",
      "source": [
        "# My tasks:\n",
        "# 1. Display first 10 rows\n",
        "# 2. Show dataset shape and info()\n",
        "# 3. Display unique values in each categorical column\n",
        "# 4. Show basic statistics for all score columns\n",
        "\n",
        "# My code here:\n",
        "# 1\n",
        "print(\"\\nfirst 10 rows:\\n\\n\", df.iloc[0:10])\n",
        "# 2\n",
        "print(\"\\nShow Dataset Shape:\", df.shape)\n",
        "print(\"\\nShow info:\\n\")\n",
        "print(df.info())\n",
        "# 3\n",
        "print(\"\\nDisplay Unique Values:\\n\")\n",
        "print(df['gender'].unique())\n",
        "print(df['race/ethnicity'].unique())\n",
        "print(df['parental level of education'].unique())\n",
        "print(df['lunch'].unique())\n",
        "print(df['test preparation course'].unique())\n",
        "#4\n",
        "print(\"\\nbasic statistics for all score:\\n\")\n",
        "print(df.describe())"
      ],
      "metadata": {
        "colab": {
          "base_uri": "https://localhost:8080/"
        },
        "id": "e-wEk8yr6E8i",
        "outputId": "d48577ad-dd2d-4caa-cf5b-f298a9295d6e"
      },
      "execution_count": 4,
      "outputs": [
        {
          "output_type": "stream",
          "name": "stdout",
          "text": [
            "\n",
            "first 10 rows:\n",
            "\n",
            "    gender race/ethnicity parental level of education         lunch  \\\n",
            "0  female        group B           bachelor's degree      standard   \n",
            "1  female        group C                some college      standard   \n",
            "2  female        group B             master's degree      standard   \n",
            "3    male        group A          associate's degree  free/reduced   \n",
            "4    male        group C                some college      standard   \n",
            "5  female        group B          associate's degree      standard   \n",
            "6  female        group B                some college      standard   \n",
            "7    male        group B                some college  free/reduced   \n",
            "8    male        group D                 high school  free/reduced   \n",
            "9  female        group B                 high school  free/reduced   \n",
            "\n",
            "  test preparation course  math score  reading score  writing score  \n",
            "0                    none          72             72             74  \n",
            "1               completed          69             90             88  \n",
            "2                    none          90             95             93  \n",
            "3                    none          47             57             44  \n",
            "4                    none          76             78             75  \n",
            "5                    none          71             83             78  \n",
            "6               completed          88             95             92  \n",
            "7                    none          40             43             39  \n",
            "8               completed          64             64             67  \n",
            "9                    none          38             60             50  \n",
            "\n",
            "Show Dataset Shape: (1000, 8)\n",
            "\n",
            "Show info:\n",
            "\n",
            "<class 'pandas.core.frame.DataFrame'>\n",
            "RangeIndex: 1000 entries, 0 to 999\n",
            "Data columns (total 8 columns):\n",
            " #   Column                       Non-Null Count  Dtype \n",
            "---  ------                       --------------  ----- \n",
            " 0   gender                       1000 non-null   object\n",
            " 1   race/ethnicity               1000 non-null   object\n",
            " 2   parental level of education  1000 non-null   object\n",
            " 3   lunch                        1000 non-null   object\n",
            " 4   test preparation course      1000 non-null   object\n",
            " 5   math score                   1000 non-null   int64 \n",
            " 6   reading score                1000 non-null   int64 \n",
            " 7   writing score                1000 non-null   int64 \n",
            "dtypes: int64(3), object(5)\n",
            "memory usage: 62.6+ KB\n",
            "None\n",
            "\n",
            "Display Unique Values:\n",
            "\n",
            "['female' 'male']\n",
            "['group B' 'group C' 'group A' 'group D' 'group E']\n",
            "[\"bachelor's degree\" 'some college' \"master's degree\" \"associate's degree\"\n",
            " 'high school' 'some high school']\n",
            "['standard' 'free/reduced']\n",
            "['none' 'completed']\n",
            "\n",
            "basic statistics for all score:\n",
            "\n",
            "       math score  reading score  writing score\n",
            "count  1000.00000    1000.000000    1000.000000\n",
            "mean     66.08900      69.169000      68.054000\n",
            "std      15.16308      14.600192      15.195657\n",
            "min       0.00000      17.000000      10.000000\n",
            "25%      57.00000      59.000000      57.750000\n",
            "50%      66.00000      70.000000      69.000000\n",
            "75%      77.00000      79.000000      79.000000\n",
            "max     100.00000     100.000000     100.000000\n"
          ]
        }
      ]
    },
    {
      "cell_type": "code",
      "source": [
        "#Task 1.2: NumPy Array Operations\n",
        "# Convert score columns to numpy arrays\n",
        "# Your tasks:\n",
        "# 1. Calculate mean, median, std, min, max for each subject using NumPy\n",
        "# 2. Find total students who scored above 80 in math\n",
        "# 3. Find total students who scored below 50 in any subject\n",
        "# 4. Calculate the overall average score across all three subjects\n",
        "# My code here:\n",
        "maths_scores= df[\"math score\"].values\n",
        "reading_scores= df[\"reading score\"].values\n",
        "writing_scores= df[\"writing score\"].values\n",
        "# 1\n",
        "print(\"math score:\\n\")\n",
        "print(\"mean:\", np.mean(maths_scores))\n",
        "print(\"median:\", np.median(maths_scores))\n",
        "print(\"std:\", np.std(maths_scores))\n",
        "print(\"min:\", np.min(maths_scores))\n",
        "print(\"max:\", np.max(maths_scores))\n",
        "print(\"\\nreading score:\\n\")\n",
        "print(\"mean:\", np.mean(reading_scores))\n",
        "print(\"median:\", np.median(reading_scores))\n",
        "print(\"std:\", np.std(reading_scores))\n",
        "print(\"min:\", np.min(reading_scores))\n",
        "print(\"max:\", np.max(reading_scores))\n",
        "print(\"\\nwriting score:\\n\")\n",
        "print(\"mean:\", np.mean(writing_scores))\n",
        "print(\"median:\", np.median(writing_scores))\n",
        "print(\"std:\", np.std(writing_scores))\n",
        "print(\"min:\", np.min(writing_scores))\n",
        "print(\"max:\", np.max(writing_scores))"
      ],
      "metadata": {
        "colab": {
          "base_uri": "https://localhost:8080/"
        },
        "id": "JtGfusrUK_rt",
        "outputId": "626d93e8-4c0d-42ce-b208-0abec3a2f178"
      },
      "execution_count": 5,
      "outputs": [
        {
          "output_type": "stream",
          "name": "stdout",
          "text": [
            "math score:\n",
            "\n",
            "mean: 66.089\n",
            "median: 66.0\n",
            "std: 15.155496659628149\n",
            "min: 0\n",
            "max: 100\n",
            "\n",
            "reading score:\n",
            "\n",
            "mean: 69.169\n",
            "median: 70.0\n",
            "std: 14.592890015346516\n",
            "min: 17\n",
            "max: 100\n",
            "\n",
            "writing score:\n",
            "\n",
            "mean: 68.054\n",
            "median: 69.0\n",
            "std: 15.188057281956768\n",
            "min: 10\n",
            "max: 100\n"
          ]
        }
      ]
    },
    {
      "cell_type": "code",
      "source": [
        "# 2. Find total students who scored above 80 in math\n",
        "highest_in_math= maths_scores > 80\n",
        "print(\"Students with math > 80:\", np.sum(highest_in_math))\n",
        "# 3. Find total students who scored below 50 in any subject\n",
        "scored_below_fifty = (maths_scores < 50) | (reading_scores < 50) | (writing_scores < 50)\n",
        "print(\"Students with any score < 50:\", np.sum(scored_below_fifty))\n",
        "# 4 Calculate the overall average score across all three subjects\n",
        "overall_average_score= (np.mean(maths_scores) + np.mean(reading_scores) + np.mean(writing_scores))/3\n",
        "print(\"Overall Average Score:\", overall_average_score)"
      ],
      "metadata": {
        "colab": {
          "base_uri": "https://localhost:8080/"
        },
        "id": "rswa4gNJV7ve",
        "outputId": "357b15e7-3d6a-43c5-8f2c-4f4ad64479a8"
      },
      "execution_count": 6,
      "outputs": [
        {
          "output_type": "stream",
          "name": "stdout",
          "text": [
            "Students with math > 80: 176\n",
            "Students with any score < 50: 188\n",
            "Overall Average Score: 67.77066666666666\n"
          ]
        }
      ]
    },
    {
      "cell_type": "code",
      "source": [
        "# Task 2.1: Identify and Handle Missing Data\n",
        "# Check the dataset for any missing values\n",
        "# Your tasks:\n",
        "# 1. Check for null values in each column using .isnull().sum()\n",
        "# 2. Check for any impossible values (scores > 100 or < 0)\n",
        "# 3. Display summary of data quality\n",
        "\n",
        "# Note: This dataset is clean, but let's verify!\n",
        "\n",
        "# MY code here:\n",
        "# 1\n",
        "print(\"null values:\\n\\n\", df.isnull().sum())\n",
        "# 2\n",
        "impossible_values= (maths_scores[(maths_scores > 100) | (maths_scores < 0)]) | (reading_scores[(reading_scores > 100) | (reading_scores < 0)]) | (writing_scores[(writing_scores > 100) | (writing_scores < 0)])\n",
        "print(\"\\nImpossible values:\", np.sum(impossible_values))\n",
        "\n"
      ],
      "metadata": {
        "colab": {
          "base_uri": "https://localhost:8080/"
        },
        "id": "DHPsbkBtxgUk",
        "outputId": "fd99f373-8b09-4335-ed4a-ef844ff963e8"
      },
      "execution_count": 48,
      "outputs": [
        {
          "output_type": "stream",
          "name": "stdout",
          "text": [
            "null values:\n",
            "\n",
            " gender                         0\n",
            "race/ethnicity                 0\n",
            "parental level of education    0\n",
            "lunch                          0\n",
            "test preparation course        0\n",
            "math score                     0\n",
            "reading score                  0\n",
            "writing score                  0\n",
            "dtype: int64\n",
            "\n",
            "Impossible values: 0\n"
          ]
        }
      ]
    }
  ]
}