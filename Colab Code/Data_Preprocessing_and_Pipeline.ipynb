{
  "nbformat": 4,
  "nbformat_minor": 0,
  "metadata": {
    "colab": {
      "provenance": [],
      "authorship_tag": "ABX9TyPcFYE2ynTjDXRAArs2squU",
      "include_colab_link": true
    },
    "kernelspec": {
      "name": "python3",
      "display_name": "Python 3"
    },
    "language_info": {
      "name": "python"
    }
  },
  "cells": [
    {
      "cell_type": "markdown",
      "metadata": {
        "id": "view-in-github",
        "colab_type": "text"
      },
      "source": [
        "<a href=\"https://colab.research.google.com/github/mdrakibhossain091b1/DATA-RESEARCH-/blob/main/Colab%20Code/Data_Preprocessing_and_Pipeline.ipynb\" target=\"_parent\"><img src=\"https://colab.research.google.com/assets/colab-badge.svg\" alt=\"Open In Colab\"/></a>"
      ]
    },
    {
      "cell_type": "code",
      "execution_count": 19,
      "metadata": {
        "id": "_nUBhlVwq18G"
      },
      "outputs": [],
      "source": [
        "# data load\n",
        "import pandas as pd\n",
        "import numpy as np\n",
        "from sklearn.model_selection import train_test_split\n",
        "from sklearn.preprocessing import StandardScaler\n",
        "\n"
      ]
    },
    {
      "cell_type": "code",
      "source": [
        "# load housing data\n",
        "from google.colab import drive\n",
        "drive.mount('/content/drive')\n",
        "df = pd.read_csv('/content/drive/MyDrive/Dataset/Housing.csv')"
      ],
      "metadata": {
        "colab": {
          "base_uri": "https://localhost:8080/"
        },
        "id": "PGMJVkmqsxb0",
        "outputId": "04f7611c-a453-4606-f684-31aa84efd9fd"
      },
      "execution_count": 20,
      "outputs": [
        {
          "output_type": "stream",
          "name": "stdout",
          "text": [
            "Drive already mounted at /content/drive; to attempt to forcibly remount, call drive.mount(\"/content/drive\", force_remount=True).\n"
          ]
        }
      ]
    },
    {
      "cell_type": "code",
      "source": [
        "# TODO: How many houses are there?\n",
        "number_of_house = len(df)\n",
        "print(f\"Number of houses: {number_of_house}\")\n",
        "print(f\"\\nFirst 3 houses: {df.head(3)}\")\n",
        "# TODO: Show all column names\n",
        "print(f\"\\nColumns:\\n\\n{df.columns}\")\n",
        "# TODO: Show data types of columns\n",
        "print(\"\\nDataType:\\n\\n\", df.dtypes)"
      ],
      "metadata": {
        "colab": {
          "base_uri": "https://localhost:8080/"
        },
        "id": "HGcDRmmPtuiV",
        "outputId": "52f0a311-6a7a-4efb-98bf-eeab83485bdb"
      },
      "execution_count": 42,
      "outputs": [
        {
          "output_type": "stream",
          "name": "stdout",
          "text": [
            "Number of houses: 545\n",
            "\n",
            "First 3 houses:       price  area  bedrooms  bathrooms  stories mainroad guestroom basement  \\\n",
            "0  13300000  7420         4          2        3      yes        no       no   \n",
            "1  12250000  8960         4          4        4      yes        no       no   \n",
            "2  12250000  9960         3          2        2      yes        no      yes   \n",
            "\n",
            "  hotwaterheating airconditioning  parking prefarea furnishingstatus  \n",
            "0              no             yes        2      yes        furnished  \n",
            "1              no             yes        3       no        furnished  \n",
            "2              no              no        2      yes   semi-furnished  \n",
            "\n",
            "Columns:\n",
            "\n",
            "Index(['price', 'area', 'bedrooms', 'bathrooms', 'stories', 'mainroad',\n",
            "       'guestroom', 'basement', 'hotwaterheating', 'airconditioning',\n",
            "       'parking', 'prefarea', 'furnishingstatus'],\n",
            "      dtype='object')\n",
            "\n",
            "DataType:\n",
            "\n",
            " price                int64\n",
            "area                 int64\n",
            "bedrooms             int64\n",
            "bathrooms            int64\n",
            "stories              int64\n",
            "mainroad            object\n",
            "guestroom           object\n",
            "basement            object\n",
            "hotwaterheating     object\n",
            "airconditioning     object\n",
            "parking              int64\n",
            "prefarea            object\n",
            "furnishingstatus    object\n",
            "dtype: object\n"
          ]
        }
      ]
    },
    {
      "cell_type": "code",
      "source": [
        "#Convert Yes/No to 1/0\n",
        "# Check what's in our data\n",
        "print(\"Current mainroad values:\\n\", df['mainroad'].head())\n",
        "# Models need numbers, not text!\n",
        "# We need: yes → 1, no → 0\n",
        "from sklearn.preprocessing import LabelEncoder\n",
        "label_encoder = LabelEncoder()\n",
        "df['mainroad_encoder'] = label_encoder.fit_transform(df['mainroad'])\n",
        "print(\"\\nAfter Label Encoding 'mainroad':\")\n",
        "print(df[['mainroad', 'mainroad_encoder']])\n",
        "\n",
        "df['guestroom_encoder'] = label_encoder.fit_transform(df['guestroom'])\n",
        "print(\"\\nAfter Label Encoding 'guestroom':\")\n",
        "print(df[['guestroom', 'guestroom_encoder']])\n",
        "\n",
        "df['basement_encoder'] = label_encoder.fit_transform(df['basement'])\n",
        "print(\"\\nAfter Label Encoding 'basement':\")\n",
        "print(df[['basement', 'basement_encoder']])\n",
        "\n",
        "df['hotwaterheating_encoder'] = label_encoder.fit_transform(df['hotwaterheating'])\n",
        "print(\"\\nAfter Label Encoding 'hotwaterheatingt':\")\n",
        "print(df[['hotwaterheating', 'hotwaterheating_encoder']])\n",
        "\n",
        "df['airconditioning_encoder'] = label_encoder.fit_transform(df['airconditioning'])\n",
        "print(\"\\nAfter Label Encoding 'airconditioning':\")\n",
        "print(df[['airconditioning', 'airconditioning_encoder']])\n",
        "\n",
        "df['prefarea_encoder'] = label_encoder.fit_transform(df['prefarea'])\n",
        "print(\"\\nAfter Label Encoding 'prefarea':\")\n",
        "print(df[['prefarea', 'prefarea_encoder']])\n",
        "\n",
        "df['furnishingstatus_encoder'] = label_encoder.fit_transform(df['furnishingstatus'])\n",
        "print(\"\\nAfter Label Encoding 'furnishingstatus':\")\n",
        "print(df[['furnishingstatus', 'furnishingstatus_encoder']])"
      ],
      "metadata": {
        "colab": {
          "base_uri": "https://localhost:8080/"
        },
        "id": "Q8E_NtPp7Va7",
        "outputId": "82e26793-8eed-4e76-b9b0-a89d6754dbe5"
      },
      "execution_count": 58,
      "outputs": [
        {
          "output_type": "stream",
          "name": "stdout",
          "text": [
            "Current mainroad values:\n",
            " 0    yes\n",
            "1    yes\n",
            "2    yes\n",
            "3    yes\n",
            "4    yes\n",
            "Name: mainroad, dtype: object\n",
            "\n",
            "After Label Encoding 'mainroad':\n",
            "    mainroad  mainroad_encoder\n",
            "0        yes                 1\n",
            "1        yes                 1\n",
            "2        yes                 1\n",
            "3        yes                 1\n",
            "4        yes                 1\n",
            "..       ...               ...\n",
            "540      yes                 1\n",
            "541       no                 0\n",
            "542      yes                 1\n",
            "543       no                 0\n",
            "544      yes                 1\n",
            "\n",
            "[545 rows x 2 columns]\n",
            "\n",
            "After Label Encoding 'guestroom':\n",
            "    guestroom  guestroom_encoder\n",
            "0          no                  0\n",
            "1          no                  0\n",
            "2          no                  0\n",
            "3          no                  0\n",
            "4         yes                  1\n",
            "..        ...                ...\n",
            "540        no                  0\n",
            "541        no                  0\n",
            "542        no                  0\n",
            "543        no                  0\n",
            "544        no                  0\n",
            "\n",
            "[545 rows x 2 columns]\n",
            "\n",
            "After Label Encoding 'basement':\n",
            "    basement  basement_encoder\n",
            "0         no                 0\n",
            "1         no                 0\n",
            "2        yes                 1\n",
            "3        yes                 1\n",
            "4        yes                 1\n",
            "..       ...               ...\n",
            "540      yes                 1\n",
            "541       no                 0\n",
            "542       no                 0\n",
            "543       no                 0\n",
            "544       no                 0\n",
            "\n",
            "[545 rows x 2 columns]\n",
            "\n",
            "After Label Encoding 'hotwaterheatingt':\n",
            "    hotwaterheating  hotwaterheating_encoder\n",
            "0                no                        0\n",
            "1                no                        0\n",
            "2                no                        0\n",
            "3                no                        0\n",
            "4                no                        0\n",
            "..              ...                      ...\n",
            "540              no                        0\n",
            "541              no                        0\n",
            "542              no                        0\n",
            "543              no                        0\n",
            "544              no                        0\n",
            "\n",
            "[545 rows x 2 columns]\n",
            "\n",
            "After Label Encoding 'airconditioning':\n",
            "    airconditioning  airconditioning_encoder\n",
            "0               yes                        1\n",
            "1               yes                        1\n",
            "2                no                        0\n",
            "3               yes                        1\n",
            "4               yes                        1\n",
            "..              ...                      ...\n",
            "540              no                        0\n",
            "541              no                        0\n",
            "542              no                        0\n",
            "543              no                        0\n",
            "544              no                        0\n",
            "\n",
            "[545 rows x 2 columns]\n",
            "\n",
            "After Label Encoding 'prefarea':\n",
            "    prefarea  prefarea_encoder\n",
            "0        yes                 1\n",
            "1         no                 0\n",
            "2        yes                 1\n",
            "3        yes                 1\n",
            "4         no                 0\n",
            "..       ...               ...\n",
            "540       no                 0\n",
            "541       no                 0\n",
            "542       no                 0\n",
            "543       no                 0\n",
            "544       no                 0\n",
            "\n",
            "[545 rows x 2 columns]\n",
            "\n",
            "After Label Encoding 'furnishingstatus':\n",
            "    furnishingstatus  furnishingstatus_encoder\n",
            "0          furnished                         0\n",
            "1          furnished                         0\n",
            "2     semi-furnished                         1\n",
            "3          furnished                         0\n",
            "4          furnished                         0\n",
            "..               ...                       ...\n",
            "540      unfurnished                         2\n",
            "541   semi-furnished                         1\n",
            "542      unfurnished                         2\n",
            "543        furnished                         0\n",
            "544      unfurnished                         2\n",
            "\n",
            "[545 rows x 2 columns]\n"
          ]
        }
      ]
    }
  ]
}