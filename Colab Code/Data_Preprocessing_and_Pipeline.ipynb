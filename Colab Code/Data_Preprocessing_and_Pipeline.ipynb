{
  "nbformat": 4,
  "nbformat_minor": 0,
  "metadata": {
    "colab": {
      "provenance": [],
      "authorship_tag": "ABX9TyMkgdH4+oDGYaeLL/9j5Zm8",
      "include_colab_link": true
    },
    "kernelspec": {
      "name": "python3",
      "display_name": "Python 3"
    },
    "language_info": {
      "name": "python"
    }
  },
  "cells": [
    {
      "cell_type": "markdown",
      "metadata": {
        "id": "view-in-github",
        "colab_type": "text"
      },
      "source": [
        "<a href=\"https://colab.research.google.com/github/mdrakibhossain091b1/DATA-RESEARCH-/blob/main/Colab%20Code/Data_Preprocessing_and_Pipeline.ipynb\" target=\"_parent\"><img src=\"https://colab.research.google.com/assets/colab-badge.svg\" alt=\"Open In Colab\"/></a>"
      ]
    },
    {
      "cell_type": "code",
      "execution_count": 58,
      "metadata": {
        "id": "_nUBhlVwq18G"
      },
      "outputs": [],
      "source": [
        "# data load\n",
        "import pandas as pd\n",
        "import numpy as np\n",
        "from sklearn.model_selection import train_test_split\n",
        "from sklearn.preprocessing import StandardScaler\n",
        "from sklearn.preprocessing import LabelEncoder\n",
        "from sklearn.linear_model import LogisticRegression\n"
      ]
    },
    {
      "cell_type": "code",
      "source": [
        "# load housing data\n",
        "from google.colab import drive\n",
        "drive.mount('/content/drive')\n",
        "df = pd.read_csv('/content/drive/MyDrive/Dataset/Housing2.csv')"
      ],
      "metadata": {
        "colab": {
          "base_uri": "https://localhost:8080/"
        },
        "id": "PGMJVkmqsxb0",
        "outputId": "674afca5-4bff-4942-ee1a-bdcf07e9d73f"
      },
      "execution_count": 59,
      "outputs": [
        {
          "output_type": "stream",
          "name": "stdout",
          "text": [
            "Drive already mounted at /content/drive; to attempt to forcibly remount, call drive.mount(\"/content/drive\", force_remount=True).\n"
          ]
        }
      ]
    },
    {
      "cell_type": "code",
      "source": [
        "# How many houses are there?\n",
        "number_of_house = len(df)\n",
        "print(f\"Number of houses: {number_of_house}\")\n",
        "print(f\"\\nFirst 3 houses: {df.head(3)}\")\n",
        "# Show all column names\n",
        "print(f\"\\nColumns:\\n\\n{df.columns}\")\n",
        "# Show data types of columns\n",
        "print(\"\\nDataType:\\n\\n\", df.dtypes)"
      ],
      "metadata": {
        "colab": {
          "base_uri": "https://localhost:8080/"
        },
        "id": "HGcDRmmPtuiV",
        "outputId": "1ce80831-1034-43e2-b275-13a226bf4b63"
      },
      "execution_count": 60,
      "outputs": [
        {
          "output_type": "stream",
          "name": "stdout",
          "text": [
            "Number of houses: 545\n",
            "\n",
            "First 3 houses:       price  area  bedrooms  bathrooms  stories mainroad guestroom basement  \\\n",
            "0  13300000  7420         4          2        3      yes        no       no   \n",
            "1  12250000  8960         4          4        4      yes        no       no   \n",
            "2  12250000  9960         3          2        2      yes        no      yes   \n",
            "\n",
            "  hotwaterheating airconditioning  parking prefarea furnishingstatus  \n",
            "0              no             yes        2      yes        furnished  \n",
            "1              no             yes        3       no        furnished  \n",
            "2              no              no        2      yes   semi-furnished  \n",
            "\n",
            "Columns:\n",
            "\n",
            "Index(['price', 'area', 'bedrooms', 'bathrooms', 'stories', 'mainroad',\n",
            "       'guestroom', 'basement', 'hotwaterheating', 'airconditioning',\n",
            "       'parking', 'prefarea', 'furnishingstatus'],\n",
            "      dtype='object')\n",
            "\n",
            "DataType:\n",
            "\n",
            " price                int64\n",
            "area                 int64\n",
            "bedrooms             int64\n",
            "bathrooms            int64\n",
            "stories              int64\n",
            "mainroad            object\n",
            "guestroom           object\n",
            "basement            object\n",
            "hotwaterheating     object\n",
            "airconditioning     object\n",
            "parking              int64\n",
            "prefarea            object\n",
            "furnishingstatus    object\n",
            "dtype: object\n"
          ]
        }
      ]
    },
    {
      "cell_type": "code",
      "source": [
        "#Convert Yes/No to 1/0\n",
        "# Check what's in our data\n",
        "print(\"Current mainroad values:\\n\", df['mainroad'].head())\n",
        "# Models need numbers, not text!\n",
        "# We need: yes → 1, no → 0\n",
        "\n",
        "label_encoder = LabelEncoder()\n",
        "df['mainroad'] = label_encoder.fit_transform(df['mainroad'])\n",
        "print(\"\\nAfter Label Encoding 'mainroad':\")\n",
        "print(df['mainroad'])\n",
        "\n",
        "df['guestroom'] = label_encoder.fit_transform(df['guestroom'])\n",
        "print(\"\\nAfter Label Encoding 'guestroom':\")\n",
        "print(df['guestroom'])\n",
        "\n",
        "df['basement'] = label_encoder.fit_transform(df['basement'])\n",
        "print(\"\\nAfter Label Encoding 'basement':\")\n",
        "print(df['basement'])\n",
        "\n",
        "df['hotwaterheating'] = label_encoder.fit_transform(df['hotwaterheating'])\n",
        "print(\"\\nAfter Label Encoding 'hotwaterheatingt':\")\n",
        "print(df['hotwaterheating'])\n",
        "\n",
        "df['airconditioning'] = label_encoder.fit_transform(df['airconditioning'])\n",
        "print(\"\\nAfter Label Encoding 'airconditioning':\")\n",
        "print(df['airconditioning'])\n",
        "\n",
        "df['prefarea'] = label_encoder.fit_transform(df['prefarea'])\n",
        "print(\"\\nAfter Label Encoding 'prefarea':\")\n",
        "print(df['prefarea'])\n",
        "\n",
        "furnishingstatus_encoded = pd.get_dummies(df['furnishingstatus'], prefix = 'furnishingstatus')\n",
        "\n",
        "df= pd.concat([df.drop('furnishingstatus', axis=1), furnishingstatus_encoded], axis=1)\n",
        "\n",
        "print(\"\\nDataType:\\n\\n\", df.dtypes)\n"
      ],
      "metadata": {
        "colab": {
          "base_uri": "https://localhost:8080/"
        },
        "id": "Q8E_NtPp7Va7",
        "outputId": "e66d75a1-818d-430a-9379-ba93e12424e4"
      },
      "execution_count": 66,
      "outputs": [
        {
          "output_type": "stream",
          "name": "stdout",
          "text": [
            "Current mainroad values:\n",
            " 0    1\n",
            "1    1\n",
            "2    1\n",
            "3    1\n",
            "4    1\n",
            "Name: mainroad, dtype: int64\n",
            "\n",
            "After Label Encoding 'mainroad':\n",
            "0      1\n",
            "1      1\n",
            "2      1\n",
            "3      1\n",
            "4      1\n",
            "      ..\n",
            "540    1\n",
            "541    0\n",
            "542    1\n",
            "543    0\n",
            "544    1\n",
            "Name: mainroad, Length: 545, dtype: int64\n",
            "\n",
            "After Label Encoding 'guestroom':\n",
            "0      0\n",
            "1      0\n",
            "2      0\n",
            "3      0\n",
            "4      1\n",
            "      ..\n",
            "540    0\n",
            "541    0\n",
            "542    0\n",
            "543    0\n",
            "544    0\n",
            "Name: guestroom, Length: 545, dtype: int64\n",
            "\n",
            "After Label Encoding 'basement':\n",
            "0      0\n",
            "1      0\n",
            "2      1\n",
            "3      1\n",
            "4      1\n",
            "      ..\n",
            "540    1\n",
            "541    0\n",
            "542    0\n",
            "543    0\n",
            "544    0\n",
            "Name: basement, Length: 545, dtype: int64\n",
            "\n",
            "After Label Encoding 'hotwaterheatingt':\n",
            "0      0\n",
            "1      0\n",
            "2      0\n",
            "3      0\n",
            "4      0\n",
            "      ..\n",
            "540    0\n",
            "541    0\n",
            "542    0\n",
            "543    0\n",
            "544    0\n",
            "Name: hotwaterheating, Length: 545, dtype: int64\n",
            "\n",
            "After Label Encoding 'airconditioning':\n",
            "0      1\n",
            "1      1\n",
            "2      0\n",
            "3      1\n",
            "4      1\n",
            "      ..\n",
            "540    0\n",
            "541    0\n",
            "542    0\n",
            "543    0\n",
            "544    0\n",
            "Name: airconditioning, Length: 545, dtype: int64\n",
            "\n",
            "After Label Encoding 'prefarea':\n",
            "0      1\n",
            "1      0\n",
            "2      1\n",
            "3      1\n",
            "4      0\n",
            "      ..\n",
            "540    0\n",
            "541    0\n",
            "542    0\n",
            "543    0\n",
            "544    0\n",
            "Name: prefarea, Length: 545, dtype: int64\n",
            "\n",
            "DataType:\n",
            "\n",
            " price                              int64\n",
            "area                               int64\n",
            "bedrooms                           int64\n",
            "bathrooms                          int64\n",
            "stories                            int64\n",
            "mainroad                           int64\n",
            "guestroom                          int64\n",
            "basement                           int64\n",
            "hotwaterheating                    int64\n",
            "airconditioning                    int64\n",
            "parking                            int64\n",
            "prefarea                           int64\n",
            "furnishingstatus_furnished          bool\n",
            "furnishingstatus_semi-furnished     bool\n",
            "furnishingstatus_unfurnished        bool\n",
            "dtype: object\n"
          ]
        }
      ]
    },
    {
      "cell_type": "code",
      "source": [
        "\n",
        "\n",
        "# Split into Train and Test\n",
        "# Split - 80% train, 20% test\n",
        "x = df.drop('price', axis=1)\n",
        "y = df['price']\n",
        "\n",
        "x_train, x_test, y_train, y_test = train_test_split(\n",
        "    x, y,\n",
        "    test_size= 0.2,\n",
        "    random_state=20\n",
        ")\n",
        "print(f\"\\nWe will train with: {len(x_train)} houses\")\n",
        "print(f\"We will test with: {len(x_test)} houses\")"
      ],
      "metadata": {
        "colab": {
          "base_uri": "https://localhost:8080/"
        },
        "id": "5lMOxQAUJakx",
        "outputId": "a322866b-e18a-485a-fe6f-ec0543e03c1e"
      },
      "execution_count": 84,
      "outputs": [
        {
          "output_type": "stream",
          "name": "stdout",
          "text": [
            "\n",
            "We will train with: 436 houses\n",
            "We will test with: 109 houses\n"
          ]
        }
      ]
    },
    {
      "cell_type": "code",
      "source": [
        "#Apply StandardScaler\n",
        "# Area is huge (1650-13300), Bedrooms is small (1-6)!\n",
        "\n",
        "scaler = StandardScaler()\n",
        "x_train_scaler = scaler.fit_transform(x_train)\n",
        "x_test_scaler = scaler.transform(x_test)\n",
        "print(\"\\nAfter scaling:\")\n",
        "print(\"All features now have similar range!\")\n",
        "print(f\"Example - First house's mainroad before scaling: {x_train.values[0][6]}\")\n",
        "print(f\"Example - First house's mainroad after scaling: {x_train_scaler[0][6]:.2f}\")"
      ],
      "metadata": {
        "colab": {
          "base_uri": "https://localhost:8080/"
        },
        "id": "qqw-gFf-TLpt",
        "outputId": "ede718d8-b801-4024-9e75-5577d4e50d08"
      },
      "execution_count": 88,
      "outputs": [
        {
          "output_type": "stream",
          "name": "stdout",
          "text": [
            "\n",
            "After scaling:\n",
            "All features now have similar range!\n",
            "Example - First house's mainroad before scaling: 0\n",
            "Example - First house's mainroad after scaling: -0.75\n"
          ]
        }
      ]
    },
    {
      "cell_type": "code",
      "source": [
        "#train and test model\n",
        "\n",
        "model = LogisticRegression(max_iter=100)\n",
        "model.fit(x_train_scaler, y_train)\n",
        "print(\"✅ Model trained!\")\n",
        "# Check accuracy on training data\n",
        "train_score= model.score(x_train_scaler, y_train)\n",
        "print(f'Training accuracy {train_score:.1%}')\n",
        "# Check accuracy on test data\n",
        "test_score = model.score(x_test_scaler, y_test)\n",
        "print(f'Test accuracy {test_score:.1%}')"
      ],
      "metadata": {
        "id": "n3dSQWIxnC-Q",
        "colab": {
          "base_uri": "https://localhost:8080/"
        },
        "outputId": "ef01eedb-44d6-45de-bbff-a9ab3ad36d81"
      },
      "execution_count": 100,
      "outputs": [
        {
          "output_type": "stream",
          "name": "stdout",
          "text": [
            "✅ Model trained!\n",
            "Training accuracy 47.2%\n",
            "Test accuracy 1.8%\n"
          ]
        }
      ]
    },
    {
      "cell_type": "code",
      "source": [
        "from sklearn.model_selection import cross_val_score\n",
        "scores = cross_val_score(\n",
        "     model,\n",
        "    x_train_scaler,\n",
        "    y_train,\n",
        "    cv= 5\n",
        ")\n",
        "\n",
        "print(\"5 mini-test scores:\")\n",
        "for i in range(5):\n",
        "    print(f\"  Test {i+1}: {scores[i]:.1%}\")\n",
        "\n",
        "print(f\"\\nAverage: {scores.mean():.1%}\")\n",
        "print(f\"This means our model is {scores.mean():.1%} accurate!\")"
      ],
      "metadata": {
        "colab": {
          "base_uri": "https://localhost:8080/"
        },
        "id": "1UDrycoyzmS-",
        "outputId": "24c7c069-d01f-4d0c-8f71-cad07b7c4aed"
      },
      "execution_count": 103,
      "outputs": [
        {
          "output_type": "stream",
          "name": "stderr",
          "text": [
            "/usr/local/lib/python3.12/dist-packages/sklearn/model_selection/_split.py:805: UserWarning: The least populated class in y has only 1 members, which is less than n_splits=5.\n",
            "  warnings.warn(\n"
          ]
        },
        {
          "output_type": "stream",
          "name": "stdout",
          "text": [
            "5 mini-test scores:\n",
            "  Test 1: 3.4%\n",
            "  Test 2: 3.4%\n",
            "  Test 3: 2.3%\n",
            "  Test 4: 2.3%\n",
            "  Test 5: 1.1%\n",
            "\n",
            "Average: 2.5%\n",
            "This means our model is 2.5% accurate!\n"
          ]
        }
      ]
    },
    {
      "cell_type": "code",
      "source": [
        "import joblib\n",
        "\n",
        "# Save the model\n",
        "joblib.dump(model, 'my_model.pkl')\n",
        "print(\"✅ Model saved as 'my_model.pkl'\")\n",
        "\n",
        "# Save the scaler\n",
        "joblib.dump(scaler, 'my_scaler.pkl')\n",
        "print(\"✅ Scaler saved as 'my_scaler.pkl'\")\n",
        "\n",
        "# Save scaled data as CSV\n",
        "pd.DataFrame(x_test_scaler).to_csv('x_test_scaler.csv', index=False)\n",
        "print(\"✅ Scaled data saved as 'train_data_scaled.csv'\")"
      ],
      "metadata": {
        "colab": {
          "base_uri": "https://localhost:8080/"
        },
        "id": "vJA93wte_V17",
        "outputId": "a1c04dc2-8c81-4a05-d382-e814730342e4"
      },
      "execution_count": 107,
      "outputs": [
        {
          "output_type": "stream",
          "name": "stdout",
          "text": [
            "✅ Model saved as 'my_model.pkl'\n",
            "✅ Scaler saved as 'my_scaler.pkl'\n",
            "✅ Scaled data saved as 'train_data_scaled.csv'\n"
          ]
        }
      ]
    },
    {
      "cell_type": "code",
      "source": [
        "# Predict a House Price\n",
        "# New house details:\n",
        "# area=5000, bedrooms=3, bathrooms=2, stories=2,\n",
        "# mainroad=yes, guestroom=no, basement=yes,\n",
        "# hotwaterheating=no, airconditioning=yes,\n",
        "# parking=2, prefarea=yes, furnishingstatus=furnished\n",
        "#your code here\n",
        "# Load saved model and scaler\n",
        "model = joblib.load('my_model.pkl')\n",
        "scaler = joblib.load('my_scaler.pkl')\n",
        "\n",
        "new_data = pd.DataFrame({\n",
        "    'area': [5000],\n",
        "    'bedrooms': [3],\n",
        "    'bathrooms': [2],\n",
        "    'stories': [2],\n",
        "    'mainroad': [1],\n",
        "    'guestroom': [0],\n",
        "    'basement': [1],\n",
        "    'hotwaterheating': [0],\n",
        "    'airconditioning': [1],\n",
        "    'parking': [2],\n",
        "    'prefarea': [1],\n",
        "    'furnishingstatus_furnished': [1],\n",
        "    'furnishingstatus_semi-furnished': [0],\n",
        "    'furnishingstatus_unfurnished': [0]\n",
        "})\n",
        "\n",
        "new_house_scaler = scaler.transform(new_data)\n",
        "prediction = model.predict(new_house_scaler)\n",
        "\n",
        "print(prediction)"
      ],
      "metadata": {
        "colab": {
          "base_uri": "https://localhost:8080/"
        },
        "id": "j88aDGeV9yIU",
        "outputId": "d92edea9-d0c6-4289-d7f3-d41d2a142a40"
      },
      "execution_count": 118,
      "outputs": [
        {
          "output_type": "stream",
          "name": "stdout",
          "text": [
            "\n",
            "New House information:\n",
            "[12215000]\n"
          ]
        }
      ]
    }
  ]
}