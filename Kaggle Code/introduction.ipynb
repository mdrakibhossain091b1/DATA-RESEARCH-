{
 "cells": [
  {
   "cell_type": "code",
   "execution_count": 1,
   "id": "4014abd6",
   "metadata": {
    "_cell_guid": "b1076dfc-b9ad-4769-8c92-a6c4dae69d19",
    "_uuid": "8f2839f25d086af736a60e9eeb907d3b93b6e0e5",
    "execution": {
     "iopub.execute_input": "2025-08-10T22:14:53.067594Z",
     "iopub.status.busy": "2025-08-10T22:14:53.067246Z",
     "iopub.status.idle": "2025-08-10T22:14:53.082309Z",
     "shell.execute_reply": "2025-08-10T22:14:53.080365Z"
    },
    "papermill": {
     "duration": 0.027376,
     "end_time": "2025-08-10T22:14:53.087154",
     "exception": false,
     "start_time": "2025-08-10T22:14:53.059778",
     "status": "completed"
    },
    "tags": []
   },
   "outputs": [
    {
     "name": "stdout",
     "output_type": "stream",
     "text": [
      "beginner, exploring new skills\n"
     ]
    }
   ],
   "source": [
    "print ('beginner, exploring new skills')"
   ]
  }
 ],
 "metadata": {
  "kaggle": {
   "accelerator": "none",
   "dataSources": [],
   "dockerImageVersionId": 31089,
   "isGpuEnabled": false,
   "isInternetEnabled": false,
   "language": "python",
   "sourceType": "notebook"
  },
  "kernelspec": {
   "display_name": "Python 3",
   "language": "python",
   "name": "python3"
  },
  "language_info": {
   "codemirror_mode": {
    "name": "ipython",
    "version": 3
   },
   "file_extension": ".py",
   "mimetype": "text/x-python",
   "name": "python",
   "nbconvert_exporter": "python",
   "pygments_lexer": "ipython3",
   "version": "3.11.13"
  },
  "papermill": {
   "default_parameters": {},
   "duration": 7.008503,
   "end_time": "2025-08-10T22:14:53.617984",
   "environment_variables": {},
   "exception": null,
   "input_path": "__notebook__.ipynb",
   "output_path": "__notebook__.ipynb",
   "parameters": {},
   "start_time": "2025-08-10T22:14:46.609481",
   "version": "2.6.0"
  }
 },
 "nbformat": 4,
 "nbformat_minor": 5
}
