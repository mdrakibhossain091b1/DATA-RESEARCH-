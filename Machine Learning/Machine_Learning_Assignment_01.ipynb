{
  "nbformat": 4,
  "nbformat_minor": 0,
  "metadata": {
    "colab": {
      "provenance": [],
      "mount_file_id": "1Zphu4vZHn5_VxQPL4rpsjWFcPmsbzSU5",
      "authorship_tag": "ABX9TyMKmyOnp8pryXKL4YXyi/kf",
      "include_colab_link": true
    },
    "kernelspec": {
      "name": "python3",
      "display_name": "Python 3"
    },
    "language_info": {
      "name": "python"
    }
  },
  "cells": [
    {
      "cell_type": "markdown",
      "metadata": {
        "id": "view-in-github",
        "colab_type": "text"
      },
      "source": [
        "<a href=\"https://colab.research.google.com/github/mdrakibhossain091b1/DATA-RESEARCH-/blob/main/Machine%20Learning/Machine_Learning_Assignment_01.ipynb\" target=\"_parent\"><img src=\"https://colab.research.google.com/assets/colab-badge.svg\" alt=\"Open In Colab\"/></a>"
      ]
    },
    {
      "cell_type": "code",
      "execution_count": 2,
      "metadata": {
        "colab": {
          "base_uri": "https://localhost:8080/"
        },
        "id": "sUNDQrRZ2OhB",
        "outputId": "ac421ae6-ed50-49dc-bddd-ddcc37e03d62"
      },
      "outputs": [
        {
          "output_type": "stream",
          "name": "stdout",
          "text": [
            "Good Luck\n"
          ]
        }
      ],
      "source": [
        "'''\n",
        "WorkFlow-\n",
        "1. Import Necessary (numpy, pandas, matplotlib, seaborn, model, decision tree, matrix)\n",
        "2. dataset load and Understanding (Total Patients, total column, first 5 Patients, Understand diagnosis column )\n",
        "3. Prepare Data (Convert string to numbers, load important features, Create X and Y)\n",
        "4. Train and Test Split\n",
        "5. Train with Decision Tree\n",
        "6. Test with Decision Tree (Make predictions, probabilities, Calculate accuracy, predictions vs reality)\n",
        "7. Test depths 2, 3, 4, 5 and find highest accuracy\n",
        "8. Test on New Patients\n",
        "9. Calculate confusion matrix (confusion matrix plot, Accuracy visualization)\n",
        "10. Calculate detailed metrics (accuracy, precision, recall, f1)\n",
        "\n",
        "'''\n",
        "print('Good Luck')"
      ]
    },
    {
      "cell_type": "code",
      "source": [
        "# 1. Import Necessary\n",
        "import numpy as np\n",
        "import pandas as pd\n",
        "import matplotlib.pyplot as plt\n",
        "import seaborn as sns\n",
        "from sklearn.model_selection import train_test_split\n",
        "from sklearn.tree import DecisionTreeClassifier\n",
        "from sklearn.metrics import (\n",
        "    accuracy_score, confusion_matrix, classification_report, precision_score,\n",
        "    recall_score, f1_score, roc_curve, roc_auc_score, auc\n",
        ")\n"
      ],
      "metadata": {
        "id": "9xf6kR7ZroPP"
      },
      "execution_count": 4,
      "outputs": []
    },
    {
      "cell_type": "code",
      "source": [
        "# 1. dataset load and Understanding\n",
        "from google.colab import drive\n",
        "drive.mount('/content/drive')\n",
        "import warnings\n",
        "warnings.filterwarnings('ignore')\n",
        "df = pd.read_csv('/content/drive/MyDrive/Dataset/Breast_Cancer_Wisconsin_Dataset.csv')\n",
        "\n",
        "print(f'Total Patients {len(df)}')\n",
        "print(f'Each patient has {len(df.columns)-2} medical measurements')\n",
        "print('\\nFirst 5 Patients:\\n')\n",
        "print(df[['texture_se', 'perimeter_se', 'area_se', 'smoothness_se', 'compactness_se', 'concavity_se']].head())\n",
        "diagnosis_counts = df['diagnosis'].value_counts()\n",
        "print(f'There are {diagnosis_counts['M']} malignant patients in the dataset.')\n",
        "print(f'There are {diagnosis_counts['B']} Benign patients in the dataset.')\n",
        "print('Malignant = Dangerous Cancer')\n",
        "print('Benign = Harmless Cancer')"
      ],
      "metadata": {
        "colab": {
          "base_uri": "https://localhost:8080/"
        },
        "id": "XjfLDMZKxX2-",
        "outputId": "cfc37ba3-8600-4ea1-9965-eb50d43951c0"
      },
      "execution_count": 30,
      "outputs": [
        {
          "output_type": "stream",
          "name": "stdout",
          "text": [
            "Drive already mounted at /content/drive; to attempt to forcibly remount, call drive.mount(\"/content/drive\", force_remount=True).\n",
            "Total Patients 569\n",
            "Each patient has 31 medical measurements\n",
            "\n",
            "First 5 Patients:\n",
            "\n",
            "   texture_se  perimeter_se  ...  compactness_se  concavity_se\n",
            "0      0.9053         8.589  ...         0.04904       0.05373\n",
            "1      0.7339         3.398  ...         0.01308       0.01860\n",
            "2      0.7869         4.585  ...         0.04006       0.03832\n",
            "3      1.1560         3.445  ...         0.07458       0.05661\n",
            "4      0.7813         5.438  ...         0.02461       0.05688\n",
            "\n",
            "[5 rows x 6 columns]\n",
            "There are 212 malignant patients in the dataset.\n",
            "There are 357 Benign patients in the dataset.\n",
            "Malignant = Dangerous Cancer\n",
            "Benign = Harmless Cancer\n"
          ]
        }
      ]
    },
    {
      "cell_type": "code",
      "source": [
        "# 3. Prepare Data\n",
        "df['diagnosis_numaric'] = df['diagnosis'].map({'M': 1, 'B': 0})\n",
        "features = [\n",
        "    'texture_se',\n",
        "    'perimeter_se',\n",
        "    'area_se',\n",
        "    'smoothness_se',\n",
        "    'compactness_se',\n",
        "    'concavity_se',\n",
        "]\n",
        "x = df[features]\n",
        "y = df['diagnosis_numaric']\n"
      ],
      "metadata": {
        "id": "ddGC88eu5WyM"
      },
      "execution_count": 65,
      "outputs": []
    },
    {
      "cell_type": "code",
      "source": [
        "# 4. Train and Test Split\n",
        "x_train, x_test, y_train, y_test = train_test_split(\n",
        "    x, y,\n",
        "    test_size= 0.20,\n",
        "    random_state= 20\n",
        ")\n",
        "print(f'Total Training data: {len(x_train)} Patients')\n",
        "print(f'Total Testing data: {len(x_test)} Patients')"
      ],
      "metadata": {
        "colab": {
          "base_uri": "https://localhost:8080/"
        },
        "id": "8V66ycie9z1r",
        "outputId": "8a9bd408-f93a-46aa-af46-40926b58570d"
      },
      "execution_count": 69,
      "outputs": [
        {
          "output_type": "stream",
          "name": "stdout",
          "text": [
            "Total Training data: 455 Patients\n",
            "Total Testing data: 114 Patients\n"
          ]
        }
      ]
    },
    {
      "cell_type": "code",
      "source": [
        "# 5. Train with Decision Tree\n",
        "doctor = DecisionTreeClassifier(\n",
        "    max_depth=3,\n",
        "    random_state=20\n",
        ")\n",
        "\n",
        "# Train the model\n",
        "doctor.fit(x_train, y_train)\n",
        "print(\"Doctor training completed!\")"
      ],
      "metadata": {
        "colab": {
          "base_uri": "https://localhost:8080/"
        },
        "id": "mG58FVAtGODb",
        "outputId": "c7585d68-ea98-49e8-9f70-ee571f33fb95"
      },
      "execution_count": 75,
      "outputs": [
        {
          "output_type": "stream",
          "name": "stdout",
          "text": [
            "Doctor training completed!\n"
          ]
        }
      ]
    },
    {
      "cell_type": "code",
      "source": [
        "# 6. Test with Decision Tree\n",
        "predictions = doctor.predict(x_test)\n",
        "probabilities = doctor.predict_proba(x_test)[:, 1]\n",
        "accuracy = accuracy_score(y_test, predictions)\n",
        "print(f'Doctor Accuracy: {accuracy*100:.2f}%')"
      ],
      "metadata": {
        "colab": {
          "base_uri": "https://localhost:8080/"
        },
        "id": "BWOUSEPwIT61",
        "outputId": "937b296a-0fb7-4e7a-bc2c-69d2861107be"
      },
      "execution_count": 91,
      "outputs": [
        {
          "output_type": "stream",
          "name": "stdout",
          "text": [
            "Doctor Accuracy: 85.09%\n"
          ]
        }
      ]
    }
  ]
}