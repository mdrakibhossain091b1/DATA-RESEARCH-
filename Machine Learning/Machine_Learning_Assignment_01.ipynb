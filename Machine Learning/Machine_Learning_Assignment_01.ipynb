{
  "nbformat": 4,
  "nbformat_minor": 0,
  "metadata": {
    "colab": {
      "provenance": [],
      "mount_file_id": "1Zphu4vZHn5_VxQPL4rpsjWFcPmsbzSU5",
      "authorship_tag": "ABX9TyMey9f8xBNrLUh2q8wgKXmu",
      "include_colab_link": true
    },
    "kernelspec": {
      "name": "python3",
      "display_name": "Python 3"
    },
    "language_info": {
      "name": "python"
    }
  },
  "cells": [
    {
      "cell_type": "markdown",
      "metadata": {
        "id": "view-in-github",
        "colab_type": "text"
      },
      "source": [
        "<a href=\"https://colab.research.google.com/github/mdrakibhossain091b1/DATA-RESEARCH-/blob/main/Machine%20Learning/Machine_Learning_Assignment_01.ipynb\" target=\"_parent\"><img src=\"https://colab.research.google.com/assets/colab-badge.svg\" alt=\"Open In Colab\"/></a>"
      ]
    },
    {
      "cell_type": "code",
      "execution_count": 26,
      "metadata": {
        "colab": {
          "base_uri": "https://localhost:8080/"
        },
        "id": "sUNDQrRZ2OhB",
        "outputId": "95b0be7c-c1c1-400d-fb94-b10ed6fe8a2b"
      },
      "outputs": [
        {
          "output_type": "stream",
          "name": "stdout",
          "text": [
            "Good Luck\n"
          ]
        }
      ],
      "source": [
        "'''\n",
        "WorkFlow-\n",
        "1. Import Necessary (numpy, pandas, matplotlib, seaborn, model, decision tree, matrix)\n",
        "2. dataset load and Understanding (Total Patients, total column, first 5 Patients, Understand diagnosis column )\n",
        "3. Prepare Data (Convert string to numbers, load important features, Create X and Y)\n",
        "4. Train and Test Split\n",
        "5. Train with Decision Tree\n",
        "6. Test with Decision Tree (Make predictions, probabilities, Calculate accuracy, predictions vs reality)\n",
        "7. Test depths 2, 3, 4, 5 and find highest accuracy\n",
        "8. Test on New Patients\n",
        "9. Calculate confusion matrix (confusion matrix plot, Accuracy visualization)\n",
        "10. Calculate detailed metrics (accuracy, precision, recall, f1)\n",
        "\n",
        "'''\n",
        "print('Good Luck')"
      ]
    },
    {
      "cell_type": "code",
      "source": [
        "# 1. Import Necessary\n",
        "import numpy as np\n",
        "import pandas as pd\n",
        "import matplotlib.pyplot as plt\n",
        "import seaborn as sns\n",
        "from sklearn.model_selection import train_test_split\n",
        "from sklearn.tree import DecisionTreeClassifier\n",
        "from sklearn.metrics import (\n",
        "    accuracy_score, confusion_matrix, classification_report, precision_score,\n",
        "    recall_score, f1_score, roc_curve, roc_auc_score, auc\n",
        ")\n"
      ],
      "metadata": {
        "id": "9xf6kR7ZroPP"
      },
      "execution_count": 2,
      "outputs": []
    },
    {
      "cell_type": "code",
      "source": [
        "# 1. dataset load and Understanding\n",
        "from google.colab import drive\n",
        "drive.mount('/content/drive')\n",
        "import warnings\n",
        "warnings.filterwarnings('ignore')\n",
        "df = pd.read_csv('/content/drive/MyDrive/Dataset/Breast_Cancer_Wisconsin_Dataset.csv')\n",
        "\n",
        "print(f'Total Patients {len(df)}')\n",
        "print(f'Each patient has {len(df.columns)-2} medical measurements')\n",
        "print('\\nFirst 5 Patients:\\n')\n",
        "print(df[['texture_se', 'perimeter_se', 'area_se', 'smoothness_se', 'compactness_se', 'concavity_se']].head())\n",
        "diagnosis_counts = df['diagnosis'].value_counts()\n",
        "print(f'There are {diagnosis_counts['M']} malignant patients in the dataset.')\n",
        "print(f'There are {diagnosis_counts['B']} Benign patients in the dataset.')\n",
        "print('Malignant = Dangerous Cancer')\n",
        "print('Benign = Harmless Cancer')"
      ],
      "metadata": {
        "colab": {
          "base_uri": "https://localhost:8080/"
        },
        "id": "XjfLDMZKxX2-",
        "outputId": "ff85814f-c09b-4ebb-9a22-8d4db9a3cc7e"
      },
      "execution_count": 3,
      "outputs": [
        {
          "output_type": "stream",
          "name": "stdout",
          "text": [
            "Drive already mounted at /content/drive; to attempt to forcibly remount, call drive.mount(\"/content/drive\", force_remount=True).\n",
            "Total Patients 569\n",
            "Each patient has 31 medical measurements\n",
            "\n",
            "First 5 Patients:\n",
            "\n",
            "   texture_se  perimeter_se  area_se  smoothness_se  compactness_se  \\\n",
            "0      0.9053         8.589   153.40       0.006399         0.04904   \n",
            "1      0.7339         3.398    74.08       0.005225         0.01308   \n",
            "2      0.7869         4.585    94.03       0.006150         0.04006   \n",
            "3      1.1560         3.445    27.23       0.009110         0.07458   \n",
            "4      0.7813         5.438    94.44       0.011490         0.02461   \n",
            "\n",
            "   concavity_se  \n",
            "0       0.05373  \n",
            "1       0.01860  \n",
            "2       0.03832  \n",
            "3       0.05661  \n",
            "4       0.05688  \n",
            "There are 212 malignant patients in the dataset.\n",
            "There are 357 Benign patients in the dataset.\n",
            "Malignant = Dangerous Cancer\n",
            "Benign = Harmless Cancer\n"
          ]
        }
      ]
    },
    {
      "cell_type": "code",
      "source": [
        "# 3. Prepare Data\n",
        "df['diagnosis_numaric'] = df['diagnosis'].map({'M': 1, 'B': 0})\n",
        "features = [\n",
        "    'texture_se',\n",
        "    'perimeter_se',\n",
        "    'area_se',\n",
        "    'smoothness_se',\n",
        "    'compactness_se',\n",
        "    'concavity_se',\n",
        "]\n",
        "x = df[features]\n",
        "y = df['diagnosis_numaric']\n"
      ],
      "metadata": {
        "id": "ddGC88eu5WyM"
      },
      "execution_count": 4,
      "outputs": []
    },
    {
      "cell_type": "code",
      "source": [
        "# 4. Train and Test Split\n",
        "x_train, x_test, y_train, y_test = train_test_split(\n",
        "    x, y,\n",
        "    test_size= 0.20,\n",
        "    random_state= 20\n",
        ")\n",
        "print(f'Total Training data: {len(x_train)} Patients')\n",
        "print(f'Total Testing data: {len(x_test)} Patients')"
      ],
      "metadata": {
        "colab": {
          "base_uri": "https://localhost:8080/"
        },
        "id": "8V66ycie9z1r",
        "outputId": "b58c9e11-efe8-42c5-a17e-2c5f812e6990"
      },
      "execution_count": 5,
      "outputs": [
        {
          "output_type": "stream",
          "name": "stdout",
          "text": [
            "Total Training data: 455 Patients\n",
            "Total Testing data: 114 Patients\n"
          ]
        }
      ]
    },
    {
      "cell_type": "code",
      "source": [
        "# 5. Train with Decision Tree\n",
        "doctor = DecisionTreeClassifier(\n",
        "    max_depth=3,\n",
        "    random_state=20\n",
        ")\n",
        "\n",
        "# Train the model\n",
        "doctor.fit(x_train, y_train)\n",
        "print(\"Doctor training completed!\")"
      ],
      "metadata": {
        "colab": {
          "base_uri": "https://localhost:8080/"
        },
        "id": "mG58FVAtGODb",
        "outputId": "c577ce00-2464-41f1-d2ee-fbb1e8800252"
      },
      "execution_count": 6,
      "outputs": [
        {
          "output_type": "stream",
          "name": "stdout",
          "text": [
            "Doctor training completed!\n"
          ]
        }
      ]
    },
    {
      "cell_type": "code",
      "source": [
        "# 6. Test with Decision Tree\n",
        "predictions = doctor.predict(x_test)\n",
        "probabilities = doctor.predict_proba(x_test)[:, 1]\n",
        "accuracy = accuracy_score(y_test, predictions)\n",
        "print(f'Doctor Accuracy: {accuracy*100:.2f}%\\n')\n",
        "print('\\nCheck some predictions with confidence:\\n')\n",
        "results = []\n",
        "\n",
        "for i in range(10):\n",
        "  actual = 'Malignant' if y_test.iloc[i] == 1 else 'Benign'\n",
        "  predicted = 'Malignant' if predictions[i] == 1 else 'Benign'\n",
        "  confidence = probabilities[i] * 100 if probabilities[i] == 1 else (1-probabilities[i])*100\n",
        "  correct = \"✅\" if y_test.iloc[i] == predictions[i] else \"❌\"\n",
        "  results.append({\n",
        "    'Actual' : actual,\n",
        "    'Predicted': predicted,\n",
        "    'Confidence (%)': round(confidence, 2),\n",
        "    'Correct': correct\n",
        "})\n",
        "\n",
        "data_frame= pd.DataFrame(results)\n",
        "print(data_frame)\n",
        "\n",
        "\n"
      ],
      "metadata": {
        "colab": {
          "base_uri": "https://localhost:8080/"
        },
        "id": "BWOUSEPwIT61",
        "outputId": "887b6c1b-d3fa-4422-8a12-e66d65d362ac"
      },
      "execution_count": 30,
      "outputs": [
        {
          "output_type": "stream",
          "name": "stdout",
          "text": [
            "Doctor Accuracy: 85.09%\n",
            "\n",
            "\n",
            "Check some predictions with confidence:\n",
            "\n",
            "      Actual  Predicted  Confidence (%) Correct\n",
            "0     Benign     Benign           78.51       ✅\n",
            "1  Malignant     Benign          100.00       ❌\n",
            "2  Malignant  Malignant          100.00       ✅\n",
            "3     Benign     Benign           98.43       ✅\n",
            "4  Malignant     Benign           78.51       ❌\n",
            "5  Malignant  Malignant          100.00       ✅\n",
            "6  Malignant  Malignant          100.00       ✅\n",
            "7     Benign     Benign           98.43       ✅\n",
            "8     Benign     Benign           78.51       ✅\n",
            "9  Malignant  Malignant          100.00       ✅\n"
          ]
        }
      ]
    },
    {
      "cell_type": "code",
      "source": [
        "# 7. Train With Depth 1\n",
        "doctor_one = DecisionTreeClassifier(\n",
        "    max_depth=1,\n",
        "    random_state=20\n",
        ")\n",
        "\n",
        "# Train the model\n",
        "doctor_one.fit(x_train, y_train)\n",
        "print(\"Doctor_One training completed!\")"
      ],
      "metadata": {
        "colab": {
          "base_uri": "https://localhost:8080/"
        },
        "id": "27PuNRONlJcm",
        "outputId": "1f107182-bcfa-4f90-9783-22403536e9ae"
      },
      "execution_count": 31,
      "outputs": [
        {
          "output_type": "stream",
          "name": "stdout",
          "text": [
            "Doctor_One training completed!\n"
          ]
        }
      ]
    },
    {
      "cell_type": "code",
      "source": [
        "# Test with depths 1\n",
        "predictions_one = doctor_one.predict(x_test)\n",
        "probabilities_one = doctor_one.predict_proba(x_test)[:, 1]\n",
        "accuracy_one = accuracy_score(y_test, predictions_one)\n",
        "print(f'Doctor_one Accuracy: {accuracy_one*100:.2f}%\\n')\n",
        "print('\\nCheck some predictions with confidence:\\n')\n",
        "results_one = []\n",
        "\n",
        "for i in range(10):\n",
        "  actual_one = 'Malignant' if y_test.iloc[i] == 1 else 'Benign'\n",
        "  predicted_one = 'Malignant' if predictions_one[i] == 1 else 'Benign'\n",
        "  confidence_one = probabilities_one[i] * 100 if probabilities_one[i] == 1 else (1-probabilities_one[i])*100\n",
        "  correct_one = \"✅\" if y_test.iloc[i] == predictions_one[i] else \"❌\"\n",
        "  results_one.append({\n",
        "    'Actual' : actual_one,\n",
        "    'Predicted': predicted_one,\n",
        "    'Confidence (%)': round(confidence_one, 2),\n",
        "    'Correct': correct_one\n",
        "})\n",
        "\n",
        "data_frame_one= pd.DataFrame(results_one)\n",
        "print(data_frame_one)\n"
      ],
      "metadata": {
        "colab": {
          "base_uri": "https://localhost:8080/"
        },
        "id": "OHPz11LclxLN",
        "outputId": "9e22755c-5b1a-4143-c698-0908fcc89d1d"
      },
      "execution_count": 32,
      "outputs": [
        {
          "output_type": "stream",
          "name": "stdout",
          "text": [
            "Doctor_one Accuracy: 85.09%\n",
            "\n",
            "\n",
            "Check some predictions with confidence:\n",
            "\n",
            "      Actual  Predicted  Confidence (%) Correct\n",
            "0     Benign     Benign           90.17       ✅\n",
            "1  Malignant     Benign           90.17       ❌\n",
            "2  Malignant  Malignant           15.62       ✅\n",
            "3     Benign     Benign           90.17       ✅\n",
            "4  Malignant     Benign           90.17       ❌\n",
            "5  Malignant  Malignant           15.62       ✅\n",
            "6  Malignant  Malignant           15.62       ✅\n",
            "7     Benign     Benign           90.17       ✅\n",
            "8     Benign     Benign           90.17       ✅\n",
            "9  Malignant  Malignant           15.62       ✅\n"
          ]
        }
      ]
    },
    {
      "cell_type": "code",
      "source": [
        "#Train With Depth 2\n",
        "doctor_two = DecisionTreeClassifier(\n",
        "    max_depth=2,\n",
        "    random_state=20\n",
        ")\n",
        "\n",
        "# Train the model\n",
        "doctor_two.fit(x_train, y_train)\n",
        "print(\"Doctor_two training completed!\")"
      ],
      "metadata": {
        "colab": {
          "base_uri": "https://localhost:8080/"
        },
        "id": "GPA8iNXJm3_P",
        "outputId": "7142e46c-3f71-4225-b6a8-eca894269738"
      },
      "execution_count": 33,
      "outputs": [
        {
          "output_type": "stream",
          "name": "stdout",
          "text": [
            "Doctor_two training completed!\n"
          ]
        }
      ]
    },
    {
      "cell_type": "code",
      "source": [
        "# Test with depths 2\n",
        "predictions_two = doctor_two.predict(x_test)\n",
        "probabilities_two = doctor_two.predict_proba(x_test)[:, 1]\n",
        "accuracy_two = accuracy_score(y_test, predictions_two)\n",
        "print(f'Doctor_two Accuracy: {accuracy_two*100:.2f}%\\n')\n",
        "print('\\nCheck some predictions with confidence:\\n')\n",
        "results_two = []\n",
        "\n",
        "for i in range(10):\n",
        "  actual_two = 'Malignant' if y_test.iloc[i] == 1 else 'Benign'\n",
        "  predicted_two = 'Malignant' if predictions_two[i] == 1 else 'Benign'\n",
        "  confidence_two = probabilities_two[i] * 100 if probabilities_two[i] == 1 else (1-probabilities_two[i])*100\n",
        "  correct_two = \"✅\" if y_test.iloc[i] == predictions_two[i] else \"❌\"\n",
        "  results_two.append({\n",
        "    'Actual' : actual_two,\n",
        "    'Predicted': predicted_two,\n",
        "    'Confidence (%)': round(confidence_two, 2),\n",
        "    'Correct': correct_two\n",
        "})\n",
        "\n",
        "data_frame_two= pd.DataFrame(results_two)\n",
        "print(data_frame_two)\n"
      ],
      "metadata": {
        "colab": {
          "base_uri": "https://localhost:8080/"
        },
        "id": "vDlV40genXPW",
        "outputId": "76c8786d-bd41-4bf8-9e33-63cbaf881c04"
      },
      "execution_count": 34,
      "outputs": [
        {
          "output_type": "stream",
          "name": "stdout",
          "text": [
            "Doctor_two Accuracy: 86.84%\n",
            "\n",
            "\n",
            "Check some predictions with confidence:\n",
            "\n",
            "      Actual  Predicted  Confidence (%) Correct\n",
            "0     Benign     Benign           84.15       ✅\n",
            "1  Malignant     Benign           84.15       ❌\n",
            "2  Malignant  Malignant            9.46       ✅\n",
            "3     Benign     Benign           97.71       ✅\n",
            "4  Malignant     Benign           84.15       ❌\n",
            "5  Malignant  Malignant            9.46       ✅\n",
            "6  Malignant  Malignant            9.46       ✅\n",
            "7     Benign     Benign           97.71       ✅\n",
            "8     Benign     Benign           84.15       ✅\n",
            "9  Malignant  Malignant            9.46       ✅\n"
          ]
        }
      ]
    },
    {
      "cell_type": "code",
      "source": [
        "#Train With Depth 4\n",
        "doctor_four = DecisionTreeClassifier(\n",
        "    max_depth=4,\n",
        "    random_state=20\n",
        ")\n",
        "\n",
        "# Train the model\n",
        "doctor_four.fit(x_train, y_train)\n",
        "print(\"Doctor_four training completed!\")"
      ],
      "metadata": {
        "colab": {
          "base_uri": "https://localhost:8080/"
        },
        "id": "hJRigAUjoVqN",
        "outputId": "fbf9d33f-f25e-4483-b485-196ed3b2741f"
      },
      "execution_count": 35,
      "outputs": [
        {
          "output_type": "stream",
          "name": "stdout",
          "text": [
            "Doctor_four training completed!\n"
          ]
        }
      ]
    },
    {
      "cell_type": "code",
      "source": [
        "# Test with depths 4\n",
        "predictions_four = doctor_four.predict(x_test)\n",
        "probabilities_four = doctor_four.predict_proba(x_test)[:, 1]\n",
        "accuracy_four = accuracy_score(y_test, predictions_four)\n",
        "print(f'Doctor_four Accuracy: {accuracy_four*100:.2f}%\\n')\n",
        "print('\\nCheck some predictions with confidence:\\n')\n",
        "results_four = []\n",
        "\n",
        "for i in range(10):\n",
        "  actual_four = 'Malignant' if y_test.iloc[i] == 1 else 'Benign'\n",
        "  predicted_four = 'Malignant' if predictions_four[i] == 1 else 'Benign'\n",
        "  confidence_four = probabilities_four[i] * 100 if probabilities_four[i] == 1 else (1-probabilities_four[i])*100\n",
        "  correct_four = \"✅\" if y_test.iloc[i] == predictions_four[i] else \"❌\"\n",
        "  results_four.append({\n",
        "    'Actual' : actual_four,\n",
        "    'Predicted': predicted_four,\n",
        "    'Confidence (%)': round(confidence_four, 2),\n",
        "    'Correct': correct_four\n",
        "})\n",
        "\n",
        "data_frame_four= pd.DataFrame(results_four)\n",
        "print(data_frame_four)\n"
      ],
      "metadata": {
        "colab": {
          "base_uri": "https://localhost:8080/"
        },
        "id": "2TTAYYZYom_O",
        "outputId": "08c72536-c848-4085-d49c-0910fe615a0e"
      },
      "execution_count": 36,
      "outputs": [
        {
          "output_type": "stream",
          "name": "stdout",
          "text": [
            "Doctor_four Accuracy: 83.33%\n",
            "\n",
            "\n",
            "Check some predictions with confidence:\n",
            "\n",
            "      Actual  Predicted  Confidence (%) Correct\n",
            "0     Benign     Benign           100.0       ✅\n",
            "1  Malignant     Benign           100.0       ❌\n",
            "2  Malignant  Malignant           100.0       ✅\n",
            "3     Benign     Benign           100.0       ✅\n",
            "4  Malignant     Benign           100.0       ❌\n",
            "5  Malignant  Malignant           100.0       ✅\n",
            "6  Malignant  Malignant           100.0       ✅\n",
            "7     Benign     Benign           100.0       ✅\n",
            "8     Benign     Benign           100.0       ✅\n",
            "9  Malignant  Malignant           100.0       ✅\n"
          ]
        }
      ]
    },
    {
      "cell_type": "code",
      "source": [
        "# find highest accuracy\n",
        "print(f'Doctor Accuracy: {accuracy*100:.2f}%')\n",
        "print(f'Doctor_one Accuracy: {accuracy_one*100:.2f}%')\n",
        "print(f'Doctor_two Accuracy: {accuracy_two*100:.2f}%')\n",
        "print(f'Doctor_four Accuracy: {accuracy_four*100:.2f}%')\n",
        "print('Here, Doctor Two has the highest accuracy.')"
      ],
      "metadata": {
        "colab": {
          "base_uri": "https://localhost:8080/"
        },
        "id": "c-GwDjLqpTVu",
        "outputId": "6d1c9ded-b3bc-4e7a-c803-9b84d31fad48"
      },
      "execution_count": 39,
      "outputs": [
        {
          "output_type": "stream",
          "name": "stdout",
          "text": [
            "Doctor Accuracy: 85.09%\n",
            "Doctor_one Accuracy: 85.09%\n",
            "Doctor_two Accuracy: 86.84%\n",
            "Doctor_four Accuracy: 83.33%\n",
            "Here, Doctor Two has the highest accuracy.\n"
          ]
        }
      ]
    },
    {
      "cell_type": "code",
      "source": [
        "# 9. Calculate confusion matrix (confusion matrix plot, Accuracy visualization)\n",
        "cm = confusion_matrix(y_test, predictions_two)\n",
        "print(cm)\n",
        "plt.figure(figsize=(10, 4))\n",
        "\n",
        "# Confusion Matrix Plot\n",
        "plt.subplot(1, 2, 1)\n",
        "sns.heatmap(cm, annot=True, fmt='d', cmap='Blues',\n",
        "            xticklabels=['Benign', 'Malignant'],\n",
        "            yticklabels=['Benign', 'Malignant'],\n",
        "            cbar_kws={'label': 'Number of Patients'})\n",
        "plt.title('Confusion Matrix\\n(Doctor Two Mistakes)', fontweight='bold', fontsize=12)\n",
        "plt.xlabel('Doctor Two  Predicted', fontsize=11)\n",
        "plt.ylabel('Actually Had', fontsize=11)\n",
        "\n",
        "# Accuracy visualization\n",
        "plt.subplot(1, 2, 2)\n",
        "categories = ['Correct\\nPredictions', 'Wrong\\nPredictions']\n",
        "values = [cm[0,0] + cm[1,1], cm[0,1] + cm[1,0]]\n",
        "colors = ['green', 'red']\n",
        "plt.bar(categories, values, color=colors, alpha=0.7)\n",
        "plt.title(f'Doctor Two Performance\\n{accuracy_two*100:.1f}% Accurate', fontweight='bold', fontsize=12)\n",
        "plt.ylabel('Number of Patients', fontsize=11)\n",
        "\n",
        "plt.tight_layout()\n",
        "plt.show()"
      ],
      "metadata": {
        "colab": {
          "base_uri": "https://localhost:8080/",
          "height": 393
        },
        "id": "am1UrdqErJ2k",
        "outputId": "7ce95527-4c9b-48c9-fb8b-b1fd431cbc00"
      },
      "execution_count": 43,
      "outputs": [
        {
          "output_type": "stream",
          "name": "stdout",
          "text": [
            "[[60  6]\n",
            " [ 9 39]]\n"
          ]
        },
        {
          "output_type": "display_data",
          "data": {
            "text/plain": [
              "<Figure size 1000x400 with 3 Axes>"
            ],
            "image/png": "[encoded data removed]"
          },
          "metadata": {}
        }
      ]
    }
  ]
}